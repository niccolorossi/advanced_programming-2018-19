{
 "cells": [
  {
   "cell_type": "code",
   "execution_count": 1,
   "metadata": {},
   "outputs": [],
   "source": [
    "class MyRange:\n",
    "    \n",
    "    def __init__(self, *pos):\n",
    "        \"\"\"\n",
    "        one parameter -> stop\n",
    "        two parameters -> start, stoo\n",
    "        three parameters -> start, stop, step\n",
    "        \"\"\"\n",
    "        if len(pos) == 1:\n",
    "            self._start = 0\n",
    "            self._stop = pos[0]\n",
    "            self._step = 1\n",
    "        if len(pos) == 2:\n",
    "            self._start = pos[0]\n",
    "            self._stop = pos[1]\n",
    "            self._step = 1\n",
    "        if len(pos) == 3:\n",
    "            self._start = pos[0]\n",
    "            self._stop = pos[1]\n",
    "            self._step = pos[2]\n",
    "        if len(pos) < 1:\n",
    "            raise ValueError(\"missing arguments!\")\n",
    "        if len(pos) > 3:\n",
    "            raise ValueError(\"too many arguments!\")\n",
    "        self._index = self._start-self._step\n",
    "            \n",
    "    def __iter__(self):\n",
    "        return self\n",
    "    \n",
    "    def __next__(self):\n",
    "        if self._index == self._stop-self._step:\n",
    "            raise StopIteration\n",
    "        if (self._step < 0 and self._index < self._stop - self._step):\n",
    "            raise StopIteration\n",
    "        if (self._step > 0 and self._index > self._stop - self._step):\n",
    "            raise StopIteration\n",
    "        self._index = self._index + self._step\n",
    "        return self._index\n",
    "            "
   ]
  },
  {
   "cell_type": "code",
   "execution_count": 4,
   "metadata": {},
   "outputs": [
    {
     "name": "stdout",
     "output_type": "stream",
     "text": [
      "7\n",
      "10\n",
      "13\n",
      "16\n",
      "19\n",
      "22\n",
      "25\n",
      "28\n",
      "31\n",
      "34\n",
      "37\n",
      "40\n",
      "43\n",
      "46\n",
      "49\n"
     ]
    }
   ],
   "source": [
    "for i in MyRange(7,50,3):\n",
    "    print(i)"
   ]
  },
  {
   "cell_type": "code",
   "execution_count": 30,
   "metadata": {},
   "outputs": [],
   "source": [
    "import time"
   ]
  },
  {
   "cell_type": "code",
   "execution_count": 42,
   "metadata": {},
   "outputs": [
    {
     "name": "stdout",
     "output_type": "stream",
     "text": [
      "7.2810000801837305e-06\n",
      "2.2009999156580307e-06\n"
     ]
    }
   ],
   "source": [
    "### timer ###\n",
    "class Timer(object):\n",
    "    def __enter__(self):\n",
    "        self.t = time.perf_counter()\n",
    "        return self\n",
    "\n",
    "    def __exit__(self, type, value, traceback):\n",
    "        self.t = time.perf_counter() - self.t\n",
    "\n",
    "with Timer() as m:\n",
    "    MyRange(1000000000)\n",
    "    \n",
    "mine=t.t\n",
    "\n",
    "with Timer() as i:\n",
    "    range(1000000000)\n",
    "\n",
    "its=i.t\n",
    "print(mine)\n",
    "print(its)"
   ]
  },
  {
   "cell_type": "code",
   "execution_count": 58,
   "metadata": {},
   "outputs": [
    {
     "name": "stderr",
     "output_type": "stream",
     "text": [
      ".\n",
      "----------------------------------------------------------------------\n",
      "Ran 1 test in 0.002s\n",
      "\n",
      "OK\n"
     ]
    }
   ],
   "source": [
    "### unit test ###\n",
    "import unittest\n",
    "\n",
    "class TestMyRange(unittest.TestCase):\n",
    "\n",
    "    def tests(self):\n",
    "        self.assertEqual(list(MyRange(100)),list(range(100)))\n",
    "        self.assertEqual(list(MyRange(100,1000)),list(range(100,1000)))\n",
    "        self.assertEqual(list(MyRange(100,245,3)),list(range(100,245,3)))\n",
    "        self.assertEqual(list(MyRange(100,1,-1)),list(range(100,1,-1)))\n",
    "        self.assertEqual(list(MyRange(100,-4,-3)),list(range(100,-4,-3)))\n",
    "        self.assertEqual(list(MyRange(-100,-1000,-1)),list(range(-100,-1000,-1)))\n",
    "        self.assertEqual(list(MyRange(-100,-245,-3)),list(range(-100,-245,-3)))\n",
    "\n",
    "if __name__ == '__main__':\n",
    "    unittest.main(argv=['first-arg-is-ignored'], exit=False)"
   ]
  },
  {
   "cell_type": "code",
   "execution_count": null,
   "metadata": {},
   "outputs": [],
   "source": []
  }
 ],
 "metadata": {
  "kernelspec": {
   "display_name": "Python 3",
   "language": "python",
   "name": "python3"
  },
  "language_info": {
   "codemirror_mode": {
    "name": "ipython",
    "version": 3
   },
   "file_extension": ".py",
   "mimetype": "text/x-python",
   "name": "python",
   "nbconvert_exporter": "python",
   "pygments_lexer": "ipython3",
   "version": "3.7.0"
  }
 },
 "nbformat": 4,
 "nbformat_minor": 2
}
