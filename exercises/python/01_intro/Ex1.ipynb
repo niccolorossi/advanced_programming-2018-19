{
 "cells": [
  {
   "cell_type": "code",
   "execution_count": 3,
   "metadata": {},
   "outputs": [],
   "source": [
    "def is_palindrome(string_var):     \n",
    "    '''\n",
    "    returns True if string_var is palindrome, False otherwise\n",
    "    '''\n",
    "    #using lists\n",
    "    l = list(string_var)\n",
    "            \n",
    "    #create backwards list\n",
    "    n = len(l)\n",
    "    back = list()\n",
    "    for i in range(n-1,-1,-1):\n",
    "        back.append(l[i])\n",
    "        \n",
    "    #final result\n",
    "    if (l == back):\n",
    "        return True\n",
    "    else:\n",
    "        return False"
   ]
  },
  {
   "cell_type": "code",
   "execution_count": 4,
   "metadata": {},
   "outputs": [
    {
     "data": {
      "text/plain": [
       "True"
      ]
     },
     "execution_count": 4,
     "metadata": {},
     "output_type": "execute_result"
    }
   ],
   "source": [
    "is_palindrome(\"itopinonavevanonipoti\")"
   ]
  },
  {
   "cell_type": "code",
   "execution_count": 5,
   "metadata": {},
   "outputs": [],
   "source": [
    "def histogram_letters(string_var):     \n",
    "    '''\n",
    "    count how many times a letter is present in the string_var\n",
    "    and returns a dict\n",
    "\n",
    "    '''\n",
    "    #I operate with lists\n",
    "    l = list(string_var)\n",
    "\n",
    "    histo = {}\n",
    "    for i in l:\n",
    "        if i not in histo:\n",
    "            histo[i] = 1\n",
    "        else:\n",
    "            histo[i] = histo[i] + 1\n",
    "    \n",
    "    return histo\n",
    "    "
   ]
  },
  {
   "cell_type": "code",
   "execution_count": 6,
   "metadata": {},
   "outputs": [
    {
     "data": {
      "text/plain": [
       "{'h': 1, 'e': 1, 'l': 3, 'o': 2, ' ': 1, 'w': 1, 'r': 1, 'd': 1}"
      ]
     },
     "execution_count": 6,
     "metadata": {},
     "output_type": "execute_result"
    }
   ],
   "source": [
    "histogram_letters(\"hello world\")"
   ]
  },
  {
   "cell_type": "code",
   "execution_count": 7,
   "metadata": {},
   "outputs": [],
   "source": [
    "def get_most_frequent(list_var):\n",
    "    '''\n",
    "    returns a tuple with the most frequent object in the list with the \n",
    "    corresponing number\n",
    "    '''\n",
    "    \n",
    "    histo = {}\n",
    "    for i in list_var:\n",
    "        if (i not in histo):\n",
    "            histo[i] = 1\n",
    "        else:\n",
    "            histo[i] = histo[i] + 1\n",
    "    a = 0\n",
    "    for it in histo.items():\n",
    "        if (it[1] > a):\n",
    "            a = it[1]\n",
    "            b = it\n",
    "    return b\n",
    "        "
   ]
  },
  {
   "cell_type": "code",
   "execution_count": 8,
   "metadata": {},
   "outputs": [],
   "source": [
    "a = list(\"hello world\")"
   ]
  },
  {
   "cell_type": "code",
   "execution_count": 9,
   "metadata": {},
   "outputs": [
    {
     "name": "stdout",
     "output_type": "stream",
     "text": [
      "('l', 3)\n"
     ]
    }
   ],
   "source": [
    "b = get_most_frequent(a)\n",
    "print(b)"
   ]
  },
  {
   "cell_type": "code",
   "execution_count": 184,
   "metadata": {},
   "outputs": [],
   "source": [
    "def which_duplicates(list_var):\n",
    "    '''\n",
    "    return a dict with containing the repeted object and the number of repetitions\n",
    "    '''\n",
    "    #delete empty spaces\n",
    "    for i in list_var:\n",
    "        if (i == ' '):\n",
    "            list_var.remove(\" \")\n",
    "    \n",
    "    histo = {}\n",
    "    for i in list_var:\n",
    "        if (i not in histo):\n",
    "            histo[i] = 1\n",
    "        else:\n",
    "            histo[i] = histo[i] + 1\n",
    "            \n",
    "    rep = {}\n",
    "    for it in histo.items():\n",
    "        if (it[1] > 1):\n",
    "            rep[it[0]] = it[1]\n",
    "            \n",
    "    return rep\n",
    "        \n",
    "    \n",
    "    "
   ]
  },
  {
   "cell_type": "code",
   "execution_count": 185,
   "metadata": {},
   "outputs": [],
   "source": [
    "a = list(\"hello world\")"
   ]
  },
  {
   "cell_type": "code",
   "execution_count": 186,
   "metadata": {},
   "outputs": [
    {
     "name": "stdout",
     "output_type": "stream",
     "text": [
      "{'l': 3, 'o': 2}\n"
     ]
    }
   ],
   "source": [
    "b = which_duplicates(a)\n",
    "print(b)"
   ]
  },
  {
   "cell_type": "code",
   "execution_count": 137,
   "metadata": {},
   "outputs": [],
   "source": [
    "def compute_factorial(int_val):\n",
    "    '''\n",
    "    returns factorial of a number\n",
    "    '''\n",
    "    n = int_val\n",
    "    if (n > 1):\n",
    "        return compute_factorial(n-1)*n\n",
    "    if ((n == 0) or (n == 1)):\n",
    "        return 1"
   ]
  },
  {
   "cell_type": "code",
   "execution_count": 145,
   "metadata": {},
   "outputs": [
    {
     "data": {
      "text/plain": [
       "120"
      ]
     },
     "execution_count": 145,
     "metadata": {},
     "output_type": "execute_result"
    }
   ],
   "source": [
    "compute_factorial(5)"
   ]
  },
  {
   "cell_type": "code",
   "execution_count": 209,
   "metadata": {},
   "outputs": [],
   "source": [
    "def is_prime(int_val):\n",
    "    n = int_val\n",
    "    for i in range(2,n):\n",
    "        if (n%i == 0):\n",
    "            return False\n",
    "    return True\n",
    "\n",
    "    \n",
    "    "
   ]
  },
  {
   "cell_type": "code",
   "execution_count": 210,
   "metadata": {},
   "outputs": [
    {
     "data": {
      "text/plain": [
       "True"
      ]
     },
     "execution_count": 210,
     "metadata": {},
     "output_type": "execute_result"
    }
   ],
   "source": [
    "is_prime(43)"
   ]
  },
  {
   "cell_type": "code",
   "execution_count": null,
   "metadata": {},
   "outputs": [],
   "source": []
  }
 ],
 "metadata": {
  "kernelspec": {
   "display_name": "Python 3",
   "language": "python",
   "name": "python3"
  },
  "language_info": {
   "codemirror_mode": {
    "name": "ipython",
    "version": 3
   },
   "file_extension": ".py",
   "mimetype": "text/x-python",
   "name": "python",
   "nbconvert_exporter": "python",
   "pygments_lexer": "ipython3",
   "version": "3.7.0"
  }
 },
 "nbformat": 4,
 "nbformat_minor": 2
}
